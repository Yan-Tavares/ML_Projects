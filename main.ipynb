{
 "cells": [
  {
   "cell_type": "markdown",
   "metadata": {
    "nbgrader": {
     "grade": false,
     "grade_id": "cell-edb192a51f1f59eb",
     "locked": true,
     "schema_version": 3,
     "solution": false,
     "task": false
    }
   },
   "source": [
    "# TI3145TU Midterm Assignment \n",
    "## Football Players Wages"
   ]
  },
  {
   "cell_type": "markdown",
   "metadata": {
    "nbgrader": {
     "grade": false,
     "grade_id": "cell-b4b9196b1578a999",
     "locked": true,
     "schema_version": 3,
     "solution": false,
     "task": false
    }
   },
   "source": [
    "We hope you enjoy this assignment, good luck!\n",
    "\n",
    "Student names: Edlyn Santha Kumaran, Yan Tavares\n",
    "\n",
    "Student numbers: 5730937, 5559790"
   ]
  },
  {
   "cell_type": "markdown",
   "metadata": {},
   "source": [
    "### <font color=\"orange\"> **Overall Methodology** </font>\n",
    "\n",
    "For this assigment we keep only 20% of the data from \"football_wages.csv\" to be used as \"unseen_data\", the remaining 80% will be used as training and validation, this subset is called \"seen_data\". Since the dataset is not too big and the models can be trained quickly, we will make use of cross validation to minimize overfitting. Every model will be trained and tunned respectively in a random 80%/20% split of the \"seen_data\".\n",
    "\n",
    "There will be three types of tests, \"models_data_test\" that will predict the values within \"models_data\", \"unseen_data_test\" that predicts \"unseen_data\", and \"autograder_test\" data predicts the autograder values in \"football_autograder.csv\".\n",
    "\n",
    "Predictions will be done using KNN and SGD, the only difference in the proceedure is the hyperparameters tuning."
   ]
  },
  {
   "cell_type": "markdown",
   "metadata": {
    "nbgrader": {
     "grade": false,
     "grade_id": "cell-27453141f8aa1fdd",
     "locked": true,
     "schema_version": 3,
     "solution": false,
     "task": false
    }
   },
   "source": [
    "### <font color=\"orange\">  **Imports, Data Loading and Preprocessing** </font>"
   ]
  },
  {
   "cell_type": "markdown",
   "metadata": {},
   "source": [
    "Data is read from the csv file 'football_wages.csv'.\n",
    "\n",
    "To convert the nationaility_name column from strings to numeric data, each nationality is assigned an integer, based on its ranking of average log_wages. The X dataset is standardized, but Y is not. The reason for not standardizing Y is that the values are already small and after some tests it was proven that removing the logarithm scale followed by standardization led to worse performance than leaving it as it is."
   ]
  },
  {
   "cell_type": "code",
   "execution_count": 7,
   "metadata": {
    "ExecuteTime": {
     "end_time": "2024-10-11T09:07:15.215384800Z",
     "start_time": "2024-10-11T09:07:15.183670100Z"
    }
   },
   "outputs": [],
   "source": [
    "import numpy as np\n",
    "import pandas as pd\n",
    "from sklearn.neighbors import KNeighborsRegressor\n",
    "from sklearn.linear_model import SGDRegressor\n",
    "from sklearn.decomposition import PCA\n",
    "\n",
    "import matplotlib.pyplot as plt\n",
    "\n",
    "from sklearn.metrics import mean_absolute_error\n",
    "from sklearn.preprocessing import StandardScaler\n",
    "from sklearn.model_selection import train_test_split\n",
    "from sklearn.model_selection import GridSearchCV"
   ]
  },
  {
   "cell_type": "code",
   "outputs": [
    {
     "data": {
      "text/plain": "    age  height_cm  weight_kg   nationality_name  overall  potential  \\\n0  27.0      183.0       76.0  b'Korea Republic'     57.0       58.0   \n1  21.0      182.0       70.0          b'France'     61.0       72.0   \n2  35.0      182.0       75.0  b'Korea Republic'     68.0       68.0   \n3  29.0      169.0       70.0        b'Paraguay'     67.0       67.0   \n4  30.0      176.0       74.0         b'Austria'     65.0       65.0   \n\n   attacking_crossing  attacking_finishing  attacking_heading_accuracy  \\\n0                54.0                 30.0                        55.0   \n1                58.0                 63.0                        46.0   \n2                62.0                 68.0                        68.0   \n3                62.0                 55.0                        50.0   \n4                63.0                 49.0                        53.0   \n\n   attacking_short_passing  ...  movement_reactions  movement_balance  \\\n0                     53.0  ...                60.0              67.0   \n1                     62.0  ...                47.0              65.0   \n2                     70.0  ...                61.0              69.0   \n3                     71.0  ...                59.0              84.0   \n4                     63.0  ...                58.0              75.0   \n\n   defending_standing_tackle  defending_sliding_tackle  goalkeeping_diving  \\\n0                       63.0                      58.0                 9.0   \n1                       31.0                      33.0                 9.0   \n2                       36.0                      40.0                 8.0   \n3                       40.0                      55.0                 6.0   \n4                       65.0                      64.0                12.0   \n\n   goalkeeping_handling  goalkeeping_kicking  goalkeeping_positioning  \\\n0                  13.0                  8.0                     11.0   \n1                  11.0                  9.0                     12.0   \n2                  12.0                  7.0                     12.0   \n3                  10.0                 11.0                     15.0   \n4                  15.0                 10.0                      8.0   \n\n   goalkeeping_reflexes  log_wages  \n0                  10.0   3.000000  \n1                  11.0   3.000000  \n2                   6.0   3.301030  \n3                   9.0   2.698970  \n4                  10.0   3.477121  \n\n[5 rows x 29 columns]",
      "text/html": "<div>\n<style scoped>\n    .dataframe tbody tr th:only-of-type {\n        vertical-align: middle;\n    }\n\n    .dataframe tbody tr th {\n        vertical-align: top;\n    }\n\n    .dataframe thead th {\n        text-align: right;\n    }\n</style>\n<table border=\"1\" class=\"dataframe\">\n  <thead>\n    <tr style=\"text-align: right;\">\n      <th></th>\n      <th>age</th>\n      <th>height_cm</th>\n      <th>weight_kg</th>\n      <th>nationality_name</th>\n      <th>overall</th>\n      <th>potential</th>\n      <th>attacking_crossing</th>\n      <th>attacking_finishing</th>\n      <th>attacking_heading_accuracy</th>\n      <th>attacking_short_passing</th>\n      <th>...</th>\n      <th>movement_reactions</th>\n      <th>movement_balance</th>\n      <th>defending_standing_tackle</th>\n      <th>defending_sliding_tackle</th>\n      <th>goalkeeping_diving</th>\n      <th>goalkeeping_handling</th>\n      <th>goalkeeping_kicking</th>\n      <th>goalkeeping_positioning</th>\n      <th>goalkeeping_reflexes</th>\n      <th>log_wages</th>\n    </tr>\n  </thead>\n  <tbody>\n    <tr>\n      <th>0</th>\n      <td>27.0</td>\n      <td>183.0</td>\n      <td>76.0</td>\n      <td>b'Korea Republic'</td>\n      <td>57.0</td>\n      <td>58.0</td>\n      <td>54.0</td>\n      <td>30.0</td>\n      <td>55.0</td>\n      <td>53.0</td>\n      <td>...</td>\n      <td>60.0</td>\n      <td>67.0</td>\n      <td>63.0</td>\n      <td>58.0</td>\n      <td>9.0</td>\n      <td>13.0</td>\n      <td>8.0</td>\n      <td>11.0</td>\n      <td>10.0</td>\n      <td>3.000000</td>\n    </tr>\n    <tr>\n      <th>1</th>\n      <td>21.0</td>\n      <td>182.0</td>\n      <td>70.0</td>\n      <td>b'France'</td>\n      <td>61.0</td>\n      <td>72.0</td>\n      <td>58.0</td>\n      <td>63.0</td>\n      <td>46.0</td>\n      <td>62.0</td>\n      <td>...</td>\n      <td>47.0</td>\n      <td>65.0</td>\n      <td>31.0</td>\n      <td>33.0</td>\n      <td>9.0</td>\n      <td>11.0</td>\n      <td>9.0</td>\n      <td>12.0</td>\n      <td>11.0</td>\n      <td>3.000000</td>\n    </tr>\n    <tr>\n      <th>2</th>\n      <td>35.0</td>\n      <td>182.0</td>\n      <td>75.0</td>\n      <td>b'Korea Republic'</td>\n      <td>68.0</td>\n      <td>68.0</td>\n      <td>62.0</td>\n      <td>68.0</td>\n      <td>68.0</td>\n      <td>70.0</td>\n      <td>...</td>\n      <td>61.0</td>\n      <td>69.0</td>\n      <td>36.0</td>\n      <td>40.0</td>\n      <td>8.0</td>\n      <td>12.0</td>\n      <td>7.0</td>\n      <td>12.0</td>\n      <td>6.0</td>\n      <td>3.301030</td>\n    </tr>\n    <tr>\n      <th>3</th>\n      <td>29.0</td>\n      <td>169.0</td>\n      <td>70.0</td>\n      <td>b'Paraguay'</td>\n      <td>67.0</td>\n      <td>67.0</td>\n      <td>62.0</td>\n      <td>55.0</td>\n      <td>50.0</td>\n      <td>71.0</td>\n      <td>...</td>\n      <td>59.0</td>\n      <td>84.0</td>\n      <td>40.0</td>\n      <td>55.0</td>\n      <td>6.0</td>\n      <td>10.0</td>\n      <td>11.0</td>\n      <td>15.0</td>\n      <td>9.0</td>\n      <td>2.698970</td>\n    </tr>\n    <tr>\n      <th>4</th>\n      <td>30.0</td>\n      <td>176.0</td>\n      <td>74.0</td>\n      <td>b'Austria'</td>\n      <td>65.0</td>\n      <td>65.0</td>\n      <td>63.0</td>\n      <td>49.0</td>\n      <td>53.0</td>\n      <td>63.0</td>\n      <td>...</td>\n      <td>58.0</td>\n      <td>75.0</td>\n      <td>65.0</td>\n      <td>64.0</td>\n      <td>12.0</td>\n      <td>15.0</td>\n      <td>10.0</td>\n      <td>8.0</td>\n      <td>10.0</td>\n      <td>3.477121</td>\n    </tr>\n  </tbody>\n</table>\n<p>5 rows × 29 columns</p>\n</div>"
     },
     "execution_count": 8,
     "metadata": {},
     "output_type": "execute_result"
    }
   ],
   "source": [
    "data = pd.read_csv('football_wages.csv')\n",
    "data_autograder = pd.read_csv('football_autograder.csv')\n",
    "\n",
    "data.head()"
   ],
   "metadata": {
    "collapsed": false,
    "ExecuteTime": {
     "end_time": "2024-10-11T09:07:18.275065800Z",
     "start_time": "2024-10-11T09:07:18.176371100Z"
    }
   },
   "execution_count": 8
  },
  {
   "cell_type": "code",
   "execution_count": 9,
   "metadata": {
    "ExecuteTime": {
     "end_time": "2024-10-11T09:07:22.770157800Z",
     "start_time": "2024-10-11T09:07:22.755964700Z"
    }
   },
   "outputs": [],
   "source": [
    "pipeline_1 = True\n",
    "\n",
    "if pipeline_1:\n",
    "    # sort the data in ascending order of average log_wages by nationality\n",
    "    \n",
    "    mean_by_nationality = data.groupby('nationality_name')['log_wages'].mean().reset_index()\n",
    "\n",
    "    mean_by_nationality_sorted = mean_by_nationality.sort_values(by='log_wages', ascending=False)\n",
    "\n",
    "    sorted_data = pd.merge(data, mean_by_nationality_sorted, on='nationality_name', suffixes=('', '_mean'))\n",
    "\n",
    "    sorted_data = sorted_data.sort_values(by='log_wages_mean', ascending=False).drop(columns='log_wages_mean')\n",
    "\n",
    "    # convert the nationality strings to integers, with 0 being the country with lowest average log_wages\n",
    "    \n",
    "    sorted_data['nationality_name'], uniques = pd.factorize(data['nationality_name'])\n",
    "\n",
    "    X = sorted_data.iloc[:, :-1]\n",
    "    Y = sorted_data.iloc[:, -1]\n",
    "\n",
    "else:\n",
    "    data.drop('nationality_name',axis=1,inplace=True)\n",
    "    X = data.iloc[:, :-1]\n",
    "    Y = data.iloc[:, -1]\n"
   ]
  },
  {
   "cell_type": "code",
   "outputs": [
    {
     "name": "stdout",
     "output_type": "stream",
     "text": [
      "Optimum n_components: 9\n"
     ]
    }
   ],
   "source": [
    "pipeline_2 = True\n",
    "\n",
    "if pipeline_2:\n",
    "\n",
    "    explained_variance_threshold = 0.95\n",
    "\n",
    "    for n_components in range(1, X.shape[1] + 1):  # Loop from 1 to max number of features\n",
    "        pca = PCA(n_components=n_components)\n",
    "        pca.fit(X)\n",
    "\n",
    "        # Calculate the cumulative explained variance\n",
    "        cumulative_variance = np.sum(pca.explained_variance_ratio_)\n",
    "\n",
    "        # Break the loop when the explained variance threshold is reached\n",
    "        if cumulative_variance >= explained_variance_threshold:\n",
    "            print(f'Optimum n_components: {n_components}')\n",
    "            break\n",
    "\n",
    "    X = pca.fit_transform(X)"
   ],
   "metadata": {
    "collapsed": false,
    "ExecuteTime": {
     "end_time": "2024-10-11T09:07:26.416824300Z",
     "start_time": "2024-10-11T09:07:26.361120300Z"
    }
   },
   "execution_count": 10
  },
  {
   "cell_type": "code",
   "outputs": [],
   "source": [
    "scaler = StandardScaler()\n",
    "X_scaled = scaler.fit_transform(X)\n",
    "\n",
    "x_seen,x_unseen,y_seen, y_unseen = train_test_split(X_scaled, Y, test_size=0.2, random_state=100)"
   ],
   "metadata": {
    "collapsed": false,
    "ExecuteTime": {
     "end_time": "2024-10-11T09:07:29.930670700Z",
     "start_time": "2024-10-11T09:07:29.899665600Z"
    }
   },
   "execution_count": 11
  },
  {
   "cell_type": "markdown",
   "metadata": {},
   "source": [
    "### <font color=\"orange\">  **Define ftraining & tunning functions** </font>"
   ]
  },
  {
   "cell_type": "code",
   "execution_count": 12,
   "metadata": {
    "ExecuteTime": {
     "end_time": "2024-10-11T09:07:37.221971Z",
     "start_time": "2024-10-11T09:07:37.217059900Z"
    }
   },
   "outputs": [],
   "source": [
    "def train_and_test_knn(k, x_train, y_train, x_val,y_val):\n",
    "    # Initialize the KNN regressor\n",
    "    model = KNeighborsRegressor(n_neighbors=k)\n",
    "\n",
    "    # Train the KNN regressor\n",
    "    model.fit(x_train, y_train)\n",
    "\n",
    "    # Predict on the validation set\n",
    "    y_pred = model.predict(x_val)\n",
    "\n",
    "    # Calculate error\n",
    "    error = np.mean(np.abs(y_val - y_pred))\n",
    "\n",
    "    return model,error\n",
    "\n",
    "def tune_and_store_knn(x_train,y_train,x_val,y_val):\n",
    "    min_error = np.inf\n",
    "    for k in range(1,40):\n",
    "        model,error = train_and_test_knn(k,x_train,y_train,x_val,y_val)\n",
    "\n",
    "        if error < min_error:\n",
    "            min_error = error\n",
    "            best_k = k\n",
    "            best_model = model\n",
    "    print(\"Best K:\", best_k)\n",
    "    return best_k,best_model,min_error\n",
    "\n",
    "def train_and_tune_SGD(x_train,y_train,x_val,y_val):\n",
    "\n",
    "    # Define the parameter grid for alpha (regularization strength) and learning rate\n",
    "    param_grid = {\n",
    "        'alpha': [0.0001, 0.001, 0.01, 0.1],  # Tuning regularization strength\n",
    "        'learning_rate': ['constant', 'optimal', 'invscaling', 'adaptive'],  # Different learning rate strategies\n",
    "        'eta0': [0.001, 0.01, 0.1, 1]  # Initial learning rate for strategies that require it\n",
    "    }\n",
    "    \n",
    "    # Initialize the SGD regressor with warm_start=True to allow incremental training\n",
    "    sgd_regressor = SGDRegressor(max_iter=1, tol=None, warm_start=True, random_state=42)\n",
    "    \n",
    "    # Use GridSearchCV to find the best hyperparameters\n",
    "    grid_search = GridSearchCV(sgd_regressor, param_grid, cv=5, scoring='neg_mean_absolute_error')\n",
    "    grid_search.fit(x_train, y_train)\n",
    "\n",
    "    \n",
    "    \n",
    "    # Get the best model from grid search\n",
    "    \"\"\"\n",
    "         A common method to find the best hyperparameters is to use techniques like GridSearchCV, which exhaustively \n",
    "         searches over a specified parameter grid. During grid search, cross-validation is used to evaluate the performance\n",
    "         of each combination of hyperparameters on different subsets of the training data.The result of the grid search is the \n",
    "         model with the best combination of hyperparameters, which is accessed via grid_search.best_estimator.\n",
    "         \n",
    "         Using grid_search.best_estimator_ to initialize the model before starting the iterations\n",
    "         ensures that you are starting with the best types of hyperparameters provided in param_grid\n",
    "\n",
    "    \"\"\"\n",
    "\n",
    "    best_model = grid_search.best_estimator_\n",
    "    best_params = grid_search.best_params_\n",
    "    \n",
    "    # Initialize the best model for incremental training\n",
    "    \"\"\"A warm start in machine learning refers to the practice of initializing\n",
    "        a model with the parameters from a previous training run, rather than starting from scratch.\"\"\"\n",
    "\n",
    "    best_model.warm_start = True\n",
    "\n",
    "    \"\"\"By setting max_iter=1, the model performs only one iteration over the training \"\n",
    "        data each time partial_fit is called.\"\"\"\n",
    "\n",
    "    best_model.max_iter = 1\n",
    "\n",
    "    \n",
    "    best_model.tol = None\n",
    "    \n",
    "    # List to store the loss values\n",
    "    loss_values = []\n",
    "    \n",
    "    # Number of epochs\n",
    "    epochs = 350\n",
    "    \n",
    "    for epoch in range(epochs):\n",
    "        best_model.partial_fit(x_train, y_train)\n",
    "        y_train_pred = best_model.predict(x_train)\n",
    "        loss = mean_absolute_error(y_train, y_train_pred)\n",
    "        loss_values.append(loss)\n",
    "    \n",
    "    return best_model,best_params, loss_values"
   ]
  },
  {
   "cell_type": "markdown",
   "metadata": {},
   "source": [
    "### <font color=\"orange\">  **Train KNN Esemble** </font>"
   ]
  },
  {
   "cell_type": "code",
   "execution_count": 13,
   "metadata": {
    "ExecuteTime": {
     "end_time": "2024-10-11T09:08:14.754302800Z",
     "start_time": "2024-10-11T09:07:49.581341800Z"
    }
   },
   "outputs": [
    {
     "name": "stdout",
     "output_type": "stream",
     "text": [
      "-----\n",
      "Model:  0\n",
      "Best K: 13\n",
      "-----\n",
      "Model:  1\n",
      "Best K: 15\n",
      "-----\n",
      "Model:  2\n",
      "Best K: 10\n",
      "-----\n",
      "Model:  3\n",
      "Best K: 11\n",
      "-----\n",
      "Model:  4\n",
      "Best K: 18\n",
      "-----\n",
      "Model:  5\n",
      "Best K: 9\n",
      "-----\n",
      "Model:  6\n",
      "Best K: 11\n",
      "-----\n",
      "Model:  7\n",
      "Best K: 16\n",
      "-----\n",
      "Model:  8\n",
      "Best K: 15\n",
      "-----\n",
      "Model:  9\n",
      "Best K: 15\n",
      "-----\n",
      "Model:  10\n",
      "Best K: 19\n",
      "-----\n",
      "Model:  11\n",
      "Best K: 9\n",
      "-----\n",
      "Model:  12\n",
      "Best K: 26\n",
      "-----\n",
      "Model:  13\n",
      "Best K: 13\n",
      "-----\n",
      "Model:  14\n",
      "Best K: 7\n",
      "Best K list:  [13, 15, 10, 11, 18, 9, 11, 16, 15, 15, 19, 9, 26, 13, 7]\n",
      "MAE on validation sets:  0.32102053476767\n"
     ]
    }
   ],
   "source": [
    "#########################################\n",
    "#--------KNN Cross validation Training \n",
    "#########################################\n",
    "number_of_models = 15\n",
    "best_KNN_model_list =[]\n",
    "best_k_list = []\n",
    "val_error_list = []\n",
    "\n",
    "# Perform cross validation\n",
    "for i in range(number_of_models):\n",
    "    print(\"-----\\nModel: \", i)\n",
    "    x_train, x_val, y_train, y_val = train_test_split(x_seen,y_seen,test_size=0.2,random_state=i)\n",
    "    best_k,best_model,min_error = tune_and_store_knn(x_train,y_train,x_val,y_val)\n",
    "    best_KNN_model_list.append(best_model)\n",
    "    val_error_list.append(min_error)\n",
    "    best_k_list.append(best_k)\n",
    "\n",
    "print('Best K list: ',best_k_list)\n",
    "val_error = np.mean(np.array(val_error_list))\n",
    "print('MAE on validation sets: ',val_error)\n"
   ]
  },
  {
   "cell_type": "markdown",
   "metadata": {},
   "source": [
    "### <font color=\"orange\"> **Train SGD Esemble** </font>"
   ]
  },
  {
   "cell_type": "code",
   "execution_count": 14,
   "metadata": {
    "ExecuteTime": {
     "end_time": "2024-10-11T09:09:05.807366500Z",
     "start_time": "2024-10-11T09:08:49.423757100Z"
    }
   },
   "outputs": [
    {
     "name": "stdout",
     "output_type": "stream",
     "text": [
      "-----\n",
      "Model:  0\n",
      "{'alpha': 0.0001, 'eta0': 0.01, 'learning_rate': 'invscaling'}\n",
      "-----\n",
      "Model:  1\n",
      "{'alpha': 0.0001, 'eta0': 0.01, 'learning_rate': 'invscaling'}\n",
      "-----\n",
      "Model:  2\n",
      "{'alpha': 0.0001, 'eta0': 0.01, 'learning_rate': 'invscaling'}\n",
      "-----\n",
      "Model:  3\n",
      "{'alpha': 0.0001, 'eta0': 0.01, 'learning_rate': 'invscaling'}\n",
      "-----\n",
      "Model:  4\n",
      "{'alpha': 0.0001, 'eta0': 0.01, 'learning_rate': 'invscaling'}\n",
      "-----\n",
      "Model:  5\n",
      "{'alpha': 0.0001, 'eta0': 0.01, 'learning_rate': 'invscaling'}\n",
      "-----\n",
      "Model:  6\n",
      "{'alpha': 0.0001, 'eta0': 0.01, 'learning_rate': 'invscaling'}\n",
      "-----\n",
      "Model:  7\n",
      "{'alpha': 0.0001, 'eta0': 0.01, 'learning_rate': 'invscaling'}\n",
      "-----\n",
      "Model:  8\n",
      "{'alpha': 0.0001, 'eta0': 0.01, 'learning_rate': 'invscaling'}\n",
      "-----\n",
      "Model:  9\n",
      "{'alpha': 0.0001, 'eta0': 0.01, 'learning_rate': 'invscaling'}\n",
      "MAE on validation sets:  0.29705221745858135\n"
     ]
    },
    {
     "data": {
      "text/plain": "<Figure size 640x480 with 1 Axes>",
      "image/png": "[encoded data removed]"
     },
     "metadata": {},
     "output_type": "display_data"
    }
   ],
   "source": [
    "\n",
    "#########################################\n",
    "#--------SGD Cross validation Training \n",
    "#########################################\n",
    "number_of_models = 10\n",
    "best_SGD_model_list = []\n",
    "best_parameters_list = []\n",
    "val_error_list = []\n",
    "loss_values_list = []\n",
    "\n",
    "# Perform cross validation\n",
    "for i in range(number_of_models):\n",
    "    print(\"-----\\nModel: \", i)\n",
    "    x_train, x_val, y_train, y_val = train_test_split(x_seen, y_seen, test_size=0.2, random_state=i)\n",
    "    best_model,best_params, loss_values = train_and_tune_SGD(x_train, y_train, x_val, y_val)\n",
    "    print(best_params)\n",
    "    best_SGD_model_list.append(best_model)\n",
    "    best_parameters_list.append(best_params)\n",
    "\n",
    "\n",
    "    # Predict on the validation set with the best model\n",
    "    y_pred = best_model.predict(x_val)\n",
    "    \n",
    "    # Calculate error\n",
    "    error_val = mean_absolute_error(y_val, y_pred)\n",
    "\n",
    "    val_error_list.append(error_val)\n",
    "    loss_values_list.append(loss_values)\n",
    "\n",
    "val_error = np.mean(np.array(val_error_list))\n",
    "print('MAE on validation sets: ', val_error)\n",
    "\n",
    "# Plot the convergence graph\n",
    "for i, loss_values in enumerate(loss_values_list):\n",
    "    plt.plot(loss_values, label=f'Model {i}')\n",
    "\n",
    "\n",
    "file_name = 'convergence_SGD_plot.pdf'\n",
    "\n",
    "plt.xlabel('Iterations')\n",
    "plt.ylabel('MSE Loss')\n",
    "plt.title('Convergence of SGDRegressor')\n",
    "plt.legend()\n",
    "plt.grid()\n",
    "\n",
    "plt.savefig(file_name, format='pdf')\n",
    "plt.show()\n",
    "\n"
   ]
  },
  {
   "cell_type": "markdown",
   "metadata": {},
   "source": [
    "### <font color=\"orange\">  **Tests** </font>"
   ]
  },
  {
   "cell_type": "code",
   "execution_count": 15,
   "metadata": {
    "ExecuteTime": {
     "end_time": "2024-10-11T09:09:35.813430300Z",
     "start_time": "2024-10-11T09:09:28.735825500Z"
    }
   },
   "outputs": [
    {
     "name": "stdout",
     "output_type": "stream",
     "text": [
      "\n",
      "--------- KNN Ensemble predictions --------- \n",
      "MAE in prediction of y_seen:  0.2957340390887625\n",
      "MAE in prediction of y_unseen:  0.31442965252840943\n",
      "MAE in prediction of Y: 0.2994731617766919\n",
      "\n",
      "--------- SGD Ensemble predictions --------- \n",
      "\n",
      "MAE in prediction of y_seen:  0.29769413480302\n",
      "MAE in prediction of y_unseen:  0.30846839236460205\n",
      "MAE in prediction of Y: 0.2998489863153364\n"
     ]
    }
   ],
   "source": [
    "def Calculate_ensemble_MAE(model_list, x_seen, x_unseen, X, y_seen, y_unseen, Y):\n",
    "    y_seen_pred = []\n",
    "    y_unseen_pred = []\n",
    "    Y_pred = []\n",
    "\n",
    "    for model in model_list:\n",
    "        y_seen_pred.append(model.predict(x_seen))\n",
    "    \n",
    "    for model in model_list:\n",
    "        y_unseen_pred.append(model.predict(x_unseen))\n",
    "    \n",
    "    for model in model_list:\n",
    "        Y_pred.append(model.predict(X))\n",
    "\n",
    "    y_seen_pred= np.mean(y_seen_pred,axis=0)\n",
    "    y_unseen_pred =  np.mean(y_unseen_pred, axis = 0)\n",
    "    Y_pred = np.mean(Y_pred, axis = 0)\n",
    "\n",
    "    #Calculates the errors\n",
    "    MAE_y_seen_pred = np.mean(np.abs(y_seen - np.array(y_seen_pred)))\n",
    "    MAE_y_unseen_pred = np.mean(np.abs(y_unseen - np.array(y_unseen_pred)))\n",
    "    MAE_Y = np.mean(np.abs(Y - np.array(Y_pred)))\n",
    "\n",
    "    return MAE_y_seen_pred, MAE_y_unseen_pred, MAE_Y\n",
    "\n",
    "\n",
    "#########################################\n",
    "#--------KNN predictions\n",
    "#########################################\n",
    "print(\"\\n--------- KNN Ensemble predictions --------- \\n\")\n",
    "\n",
    "MAE_y_seen_pred_KNN, MAE_y_unseen_pred_KNN, MAE_Y_KNN = Calculate_ensemble_MAE(best_KNN_model_list, x_seen, x_unseen, X_scaled, y_seen, y_unseen, Y)\n",
    "\n",
    "print(\"MAE in prediction of y_seen: \", MAE_y_seen_pred_KNN)\n",
    "print(\"MAE in prediction of y_unseen: \", MAE_y_unseen_pred_KNN)\n",
    "print(\"MAE in prediction of Y:\", MAE_Y_KNN)\n",
    "\n",
    "#########################################\n",
    "#--------SGD predictions\n",
    "#########################################\n",
    "print(\"\\n--------- SGD Ensemble predictions --------- \\n\")\n",
    "\n",
    "MAE_y_seen_pred_SGD, MAE_y_unseen_pred_SGD, MAE_Y_SGD = Calculate_ensemble_MAE(best_SGD_model_list, x_seen, x_unseen, X_scaled, y_seen, y_unseen, Y)\n",
    "\n",
    "print(\"MAE in prediction of y_seen: \", MAE_y_seen_pred_SGD)\n",
    "print(\"MAE in prediction of y_unseen: \", MAE_y_unseen_pred_SGD)\n",
    "print(\"MAE in prediction of Y:\", MAE_Y_SGD)"
   ]
  },
  {
   "cell_type": "code",
   "execution_count": null,
   "metadata": {},
   "outputs": [],
   "source": [
    "\n",
    "# # Define the parameter grid for alpha (regularization strength) and learning rate\n",
    "# param_grid = {\n",
    "#     'alpha': [0.0001, 0.001, 0.01, 0.1],  # Tuning regularization strength\n",
    "#     'learning_rate': ['constant', 'optimal', 'invscaling', 'adaptive'],  # Different learning rate strategies\n",
    "#     'eta0': [0.001, 0.01, 0.1, 1]  # Initial learning rate for strategies that require it\n",
    "# }\n",
    "\n",
    "# # Use GridSearchCV to find the best hyperparameters\n",
    "# grid_search = GridSearchCV(sgd_regressor, param_grid, cv=5, scoring='neg_mean_absolute_error')\n",
    "# grid_search.fit(X_train_scaled, y_train)\n",
    "\n",
    "# # Get the best model from grid search\n",
    "# best_sgd = grid_search.best_estimator_\n",
    "\n",
    "# # Predict on the test set with the best model\n",
    "# y_pred = best_sgd.predict(X_test_scaled)\n",
    "\n",
    "# # Evaluate the model using MAE\n",
    "# mae = mean_absolute_error(y_test, y_pred)\n",
    "# print(f\"Best MAE: {mae}\")\n",
    "# print(f\"Best Parameters: {grid_search.best_params_}\")"
   ]
  },
  {
   "cell_type": "code",
   "execution_count": null,
   "metadata": {},
   "outputs": [],
   "source": [
    "# # TODO Replace this with your own estimate of the MAE of your best model\n",
    "# estimate_MAE_on_new_data = np.array([1.0])\n",
    "\n",
    "# # TODO Replace this with the predictions of your best model\n",
    "# # via e.g. prediction = model.predict(data_autograder)\n",
    "# # your predictions here should again be the $log_{10}(wage)$ of the football player, just as in the provided data. \n",
    "# predictions_autograder_data = np.array([-1] * 14178)\n",
    "\n",
    "# # Upload this file to the Vocareum autograder:\n",
    "# result = np.append(estimate_MAE_on_new_data, predictions_autograder_data)\n",
    "# pd.DataFrame(result).to_csv(\"autograder_submission.txt\", index=False, header=False)"
   ]
  }
 ],
 "metadata": {
  "celltoolbar": "Create Assignment",
  "kernelspec": {
   "display_name": "env1Conda",
   "language": "python",
   "name": "python3"
  },
  "language_info": {
   "codemirror_mode": {
    "name": "ipython",
    "version": 3
   },
   "file_extension": ".py",
   "mimetype": "text/x-python",
   "name": "python",
   "nbconvert_exporter": "python",
   "pygments_lexer": "ipython3",
   "version": "3.12.3"
  }
 },
 "nbformat": 4,
 "nbformat_minor": 4
}
