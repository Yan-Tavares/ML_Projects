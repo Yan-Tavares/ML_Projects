{
 "cells": [
  {
   "cell_type": "code",
   "execution_count": 2,
   "metadata": {},
   "outputs": [],
   "source": [
    "import numpy as np\n",
    "import pandas as pd\n",
    "\n",
    "from sklearn.neighbors import KNeighborsRegressor\n",
    "from sklearn.linear_model import SGDRegressor\n",
    "from sklearn.ensemble import RandomForestRegressor\n",
    "from sklearn.tree import DecisionTreeRegressor\n",
    "\n",
    "import matplotlib.pyplot as plt"
   ]
  },
  {
   "cell_type": "code",
   "execution_count": 7,
   "metadata": {},
   "outputs": [
    {
     "name": "stdout",
     "output_type": "stream",
     "text": [
      "   whrswk  hhi  whi  hhi2  education  hispanic  experience  kidslt6  kids618  \\\n",
      "0    40.0   -1    1     1       14.0        -1        17.0      0.0      1.0   \n",
      "1    40.0   -1    1     1       14.0        -1         4.0      1.0      0.0   \n",
      "2     0.0    1   -1     1       16.0        -1        21.0      0.0      1.0   \n",
      "3    40.0   -1   -1     1       14.0        -1        22.0      NaN      NaN   \n",
      "4    35.0   -1    1    -1       12.0        -1        15.0      0.0      2.0   \n",
      "\n",
      "    husby  race_black  race_other  race_white  reg_northcentral  reg_other  \\\n",
      "0  22.000       False       False        True             False      False   \n",
      "1  15.000       False       False        True             False      False   \n",
      "2  99.999       False       False        True             False       True   \n",
      "3  60.000       False       False        True              True      False   \n",
      "4   0.000       False       False        True             False      False   \n",
      "\n",
      "   reg_south  reg_west  \n",
      "0       True     False  \n",
      "1       True     False  \n",
      "2      False     False  \n",
      "3      False     False  \n",
      "4       True     False  \n"
     ]
    }
   ],
   "source": [
    "df = pd.read_csv('health_insurance_train.csv')\n",
    "df_autograder = pd.read_csv('health_insurance_autograde.csv')\n",
    "\n",
    "# Define a function to convert education ranges to numerical values\n",
    "def convert_education(education):\n",
    "\n",
    "    education = education.replace('years', '')\n",
    "\n",
    "    if '>16' in education:\n",
    "        return 20\n",
    "    \n",
    "    if '<9' in education:\n",
    "        return 4.5\n",
    "\n",
    "    education = education.split('-')\n",
    "    education = (float(education[-1])+float(education[0]))/2\n",
    "\n",
    "    return education\n",
    "\n",
    "# Define a function to convert yes/no values to binary values\n",
    "def yes_no_to_binary(value):\n",
    "    if value == 'yes' or value == 'no':\n",
    "        if value == 'yes':\n",
    "            return 1\n",
    "        else:\n",
    "            return -1\n",
    "    return value\n",
    "\n",
    "# Apply the conversion functions to the education column\n",
    "df['education'] = df['education'].apply(convert_education)\n",
    "\n",
    "# Apply binaray conversion to all columns that contain yes/no values\n",
    "for key in df.keys():\n",
    "    df[key] = df[key].apply(yes_no_to_binary)\n",
    "\n",
    "\n",
    "\n",
    "# Apply one-hot encoding to the race and region column\n",
    "''''\n",
    "\n",
    "One hot encoding is a process by which categorical variables are converted into\n",
    "binary True/False. ML algorithm will read True as 1 and False as 0. So gradients\n",
    "can be made for each column separetely.\n",
    "\n",
    "'''\n",
    "df = pd.get_dummies(df, columns=['race'], prefix='race')\n",
    "df = pd.get_dummies(df, columns=['region'],prefix='reg')\n",
    "\n",
    "print(df.head())\n",
    "\n"
   ]
  }
 ],
 "metadata": {
  "kernelspec": {
   "display_name": "env1Conda",
   "language": "python",
   "name": "python3"
  },
  "language_info": {
   "codemirror_mode": {
    "name": "ipython",
    "version": 3
   },
   "file_extension": ".py",
   "mimetype": "text/x-python",
   "name": "python",
   "nbconvert_exporter": "python",
   "pygments_lexer": "ipython3",
   "version": "3.12.3"
  }
 },
 "nbformat": 4,
 "nbformat_minor": 2
}
